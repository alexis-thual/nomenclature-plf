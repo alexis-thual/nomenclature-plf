{
 "cells": [
  {
   "cell_type": "code",
   "execution_count": 63,
   "metadata": {},
   "outputs": [],
   "source": [
    "import csv\n",
    "\n",
    "from anytree import Node, RenderTree"
   ]
  },
  {
   "cell_type": "markdown",
   "metadata": {},
   "source": [
    "Commandes pour générer les fichiers `.csv` depuis le dump envoyé par la DB :\n",
    "```\n",
    "ls | xargs -i basename {} .xlsx | xargs -i ssconvert {}.xlsx {}.csv\n",
    "find -name '*.csv' | xargs -i wc -l {}\n",
    "```"
   ]
  },
  {
   "cell_type": "code",
   "execution_count": 78,
   "metadata": {},
   "outputs": [],
   "source": [
    "FILE_1 = './raw_data/h2016.csv'\n",
    "FILE_2 = './raw_data/h2017.csv'\n",
    "EMBEDDING_FILE_PATH = '/home/alexis/mva/word_embeddings/wiki.fr.vec'"
   ]
  },
  {
   "cell_type": "markdown",
   "metadata": {},
   "source": [
    "# Loading Data"
   ]
  },
  {
   "cell_type": "code",
   "execution_count": 60,
   "metadata": {},
   "outputs": [],
   "source": [
    "class Line:\n",
    "    def __init__(self, row):\n",
    "        self.id_tms = int(row[1])\n",
    "        self.tm = row[2]\n",
    "        self.id_ms = row[3]\n",
    "        self.ms = row[4]\n",
    "        self.id_pg = int(row[5])\n",
    "        self.pg = row[6]\n",
    "        self.id_a = int(row[7])\n",
    "        self.a = row[8]\n",
    "        # Parse sous-action if exists\n",
    "        self.id_sa = int(row[9]) if len(row[9]) > 0 else None\n",
    "        self.sa = row[10] if len(row[10]) > 0 else None\n",
    "        \n",
    "        self.embedding = None\n",
    "    \n",
    "    def build_embedding(self, embeddings):\n",
    "        pass"
   ]
  },
  {
   "cell_type": "code",
   "execution_count": 64,
   "metadata": {},
   "outputs": [],
   "source": [
    "def parse_csv(file_path):\n",
    "    data = []\n",
    "    with open(file_path, 'r') as f:\n",
    "        r = csv.reader(f, delimiter=',', quotechar='\"')\n",
    "        # Skip header\n",
    "        next(r, None)\n",
    "        # Iterate through rows\n",
    "        for row in r:\n",
    "            node = Line(row)\n",
    "            data.append(node)\n",
    "            \n",
    "    return data"
   ]
  },
  {
   "cell_type": "code",
   "execution_count": 62,
   "metadata": {},
   "outputs": [],
   "source": [
    "data1 = parse_csv(FILE_1)\n",
    "data2 = parse_csv(FILE_2)"
   ]
  },
  {
   "cell_type": "markdown",
   "metadata": {},
   "source": [
    "# Create Word Embedding"
   ]
  },
  {
   "cell_type": "markdown",
   "metadata": {},
   "source": [
    "## Count maximal number of words"
   ]
  },
  {
   "cell_type": "code",
   "execution_count": 74,
   "metadata": {},
   "outputs": [],
   "source": [
    "def maximal_number_words(data):\n",
    "    m = 0\n",
    "    for line in data:\n",
    "        m = max(m, len(line.tm.split(' ')))\n",
    "        m = max(m, len(line.ms.split(' ')))\n",
    "        m = max(m, len(line.pg.split(' ')))\n",
    "        m = max(m, len(line.a.split(' ')))\n",
    "        m = max(m, len(line.sa.split(' ')) if line.sa else 0)\n",
    "    return m"
   ]
  },
  {
   "cell_type": "code",
   "execution_count": 75,
   "metadata": {},
   "outputs": [
    {
     "data": {
      "text/plain": [
       "46"
      ]
     },
     "execution_count": 75,
     "metadata": {},
     "output_type": "execute_result"
    }
   ],
   "source": [
    "maximal_number_words(data1)"
   ]
  },
  {
   "cell_type": "markdown",
   "metadata": {},
   "source": [
    "## Load word embeddings"
   ]
  },
  {
   "cell_type": "code",
   "execution_count": null,
   "metadata": {},
   "outputs": [],
   "source": [
    "import gensim\n",
    "from gensim.models import Word2Vec\n",
    "pretrained_embeddings = gensim.models.KeyedVectors.load_word2vec_format(EMBEDDING_FILE_PATH, binary=False)"
   ]
  },
  {
   "cell_type": "code",
   "execution_count": null,
   "metadata": {},
   "outputs": [],
   "source": []
  }
 ],
 "metadata": {
  "kernelspec": {
   "display_name": "Python 3",
   "language": "python",
   "name": "python3"
  },
  "language_info": {
   "codemirror_mode": {
    "name": "ipython",
    "version": 3
   },
   "file_extension": ".py",
   "mimetype": "text/x-python",
   "name": "python",
   "nbconvert_exporter": "python",
   "pygments_lexer": "ipython3",
   "version": "3.6.4"
  }
 },
 "nbformat": 4,
 "nbformat_minor": 2
}
