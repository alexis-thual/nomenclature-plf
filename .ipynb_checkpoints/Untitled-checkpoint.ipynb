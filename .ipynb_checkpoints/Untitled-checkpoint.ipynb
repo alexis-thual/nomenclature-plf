{
 "cells": [
  {
   "cell_type": "code",
   "execution_count": 89,
   "metadata": {},
   "outputs": [],
   "source": [
    "import csv\n",
    "import matplotlib.pyplot as plt\n",
    "import numpy as np\n",
    "\n",
    "from anytree import Node, RenderTree, Resolver, AnyNode, PreOrderIter"
   ]
  },
  {
   "cell_type": "markdown",
   "metadata": {},
   "source": [
    "Commandes pour générer les fichiers `.csv` depuis le dump envoyé par la DB :\n",
    "```\n",
    "ls | xargs -i basename {} .xlsx | xargs -i ssconvert {}.xlsx {}.csv\n",
    "find -name '*.csv' | xargs -i wc -l {}\n",
    "```"
   ]
  },
  {
   "cell_type": "code",
   "execution_count": 2,
   "metadata": {},
   "outputs": [],
   "source": [
    "FILE_1 = './raw_data/h20162.csv'\n",
    "FILE_2 = './raw_data/h20172.csv'\n",
    "EMBEDDING_FILE_PATH = '/home/alexis/mva/word_embeddings/wiki.fr.vec'\n",
    "ATTRIBUTES = ['tm', 'ms', 'pg', 'a', 'sa']"
   ]
  },
  {
   "cell_type": "markdown",
   "metadata": {},
   "source": [
    "# Loading Data"
   ]
  },
  {
   "cell_type": "code",
   "execution_count": 58,
   "metadata": {},
   "outputs": [],
   "source": [
    "class Line:\n",
    "    def __init__(self, row):\n",
    "        self.id_tms = int(row[1])\n",
    "        self.tm = row[2]\n",
    "        self.id_ms = row[3]\n",
    "        self.ms = row[4]\n",
    "        self.id_pg = int(row[5])\n",
    "        self.pg = row[6]\n",
    "        self.id_a = int(row[7])\n",
    "        self.a = row[8]\n",
    "        # Parse sous-action if exists\n",
    "        self.id_sa = int(row[9]) if len(row[9]) > 0 else None\n",
    "        self.sa = row[10] if len(row[10]) > 0 else ''\n",
    "    "
   ]
  },
  {
   "cell_type": "code",
   "execution_count": 149,
   "metadata": {},
   "outputs": [],
   "source": [
    "tree = AnyNode(name='top', parent=None, embedding=None)\n",
    "resolver = Resolver('name')\n",
    "\n",
    "def parse_csv(file_path):\n",
    "    data = []\n",
    "    with open(file_path, 'r') as f:\n",
    "        r = csv.reader(f, delimiter=',', quotechar='\"')\n",
    "        # Skip header\n",
    "        next(r, None)\n",
    "        # Iterate through rows\n",
    "        for row in r:\n",
    "            line = Line(row)\n",
    "            current_tree = tree\n",
    "            current_path = []\n",
    "            \n",
    "            for attribute in ATTRIBUTES:\n",
    "                name = getattr(line, attribute)\n",
    "                words = keras.preprocessing.text.text_to_word_sequence(\n",
    "                    name,\n",
    "                    filters=\"!\\\"#$%&()*+,-./:;<=>?@[\\\\]^_`{|}~\\t\\n'´’™©®«»\", lower=True, split=' '\n",
    "                )\n",
    "                embedding = np.zeros((0, 300))\n",
    "                for word in words:\n",
    "                    try:\n",
    "                        embedding = np.concatenate((\n",
    "                            embedding,\n",
    "                            np.array([pretrained_embeddings[word.lower()]])\n",
    "                        ))\n",
    "                    except:\n",
    "                        embedding = np.concatenate((\n",
    "                            embedding,\n",
    "                            np.array([np.zeros((300,))])\n",
    "                        ))\n",
    "                embedding = np.array(embedding)\n",
    "                padded_embedding = np.zeros((PADDING, embedding.shape[1]))\n",
    "                padded_embedding[:embedding.shape[0],:embedding.shape[1]] = embedding\n",
    "                current_path.append(name)\n",
    "                try:\n",
    "                    current_tree = resolver.get(current_tree, current_path[-1])\n",
    "                except:\n",
    "                    current_tree = AnyNode(\n",
    "                        parent=current_tree,\n",
    "                        name=current_path[-1],\n",
    "                        embedding=padded_embedding\n",
    "                    )\n",
    "\n",
    "            data.append(line)\n",
    "\n",
    "    return data"
   ]
  },
  {
   "cell_type": "code",
   "execution_count": 150,
   "metadata": {},
   "outputs": [],
   "source": [
    "data1 = parse_csv(FILE_1)\n",
    "data2 = parse_csv(FILE_2)"
   ]
  },
  {
   "cell_type": "code",
   "execution_count": 164,
   "metadata": {},
   "outputs": [],
   "source": [
    "for node in PreOrderIter(tree):\n",
    "    if node.name != 'top':\n",
    "        assert(node.embedding.shape == (50, 300))"
   ]
  },
  {
   "cell_type": "markdown",
   "metadata": {},
   "source": [
    "# Create Word Embedding"
   ]
  },
  {
   "cell_type": "markdown",
   "metadata": {},
   "source": [
    "## Count maximal number of words"
   ]
  },
  {
   "cell_type": "code",
   "execution_count": 94,
   "metadata": {},
   "outputs": [],
   "source": [
    "def maximal_number_words(data):\n",
    "    m = 0\n",
    "    for line in data:\n",
    "        for attribute in ATTRIBUTES:\n",
    "            m = max(m, len(getattr(line, attribute).split(' ')))\n",
    "    return m"
   ]
  },
  {
   "cell_type": "code",
   "execution_count": 95,
   "metadata": {},
   "outputs": [
    {
     "data": {
      "text/plain": [
       "46"
      ]
     },
     "execution_count": 95,
     "metadata": {},
     "output_type": "execute_result"
    }
   ],
   "source": [
    "maximal_number_words(data1)"
   ]
  },
  {
   "cell_type": "code",
   "execution_count": 104,
   "metadata": {},
   "outputs": [],
   "source": [
    "def word_count_per_attribute(data):\n",
    "    l = []\n",
    "    for line in data:\n",
    "        for attribute in ATTRIBUTES:\n",
    "            l.append(len(getattr(line, attribute).split(' ')))\n",
    "    return l"
   ]
  },
  {
   "cell_type": "code",
   "execution_count": 106,
   "metadata": {},
   "outputs": [],
   "source": [
    "l = word_count_per_attribute(data1) + word_count_per_attribute(data2)"
   ]
  },
  {
   "cell_type": "code",
   "execution_count": 115,
   "metadata": {},
   "outputs": [
    {
     "data": {
      "image/png": "[encoded data removed]",
      "text/plain": [
       "<matplotlib.figure.Figure at 0x7f330bc02860>"
      ]
     },
     "metadata": {},
     "output_type": "display_data"
    },
    {
     "data": {
      "image/png": "[encoded data removed]",
      "text/plain": [
       "<matplotlib.figure.Figure at 0x7f330bb99400>"
      ]
     },
     "metadata": {},
     "output_type": "display_data"
    }
   ],
   "source": [
    "n, bins, patches = plt.hist(l, 50, log=True)\n",
    "plt.show()\n",
    "n, bins, patches = plt.hist(l, 50)"
   ]
  },
  {
   "cell_type": "code",
   "execution_count": 71,
   "metadata": {},
   "outputs": [],
   "source": [
    "PADDING = 50"
   ]
  },
  {
   "cell_type": "markdown",
   "metadata": {},
   "source": [
    "## Load word embeddings"
   ]
  },
  {
   "cell_type": "code",
   "execution_count": 82,
   "metadata": {},
   "outputs": [],
   "source": [
    "import gensim\n",
    "from gensim.models import Word2Vec\n",
    "pretrained_embeddings = gensim.models.KeyedVectors.load_word2vec_format(EMBEDDING_FILE_PATH, binary=False)"
   ]
  },
  {
   "cell_type": "code",
   "execution_count": 90,
   "metadata": {},
   "outputs": [],
   "source": [
    "textual_data = [node.name for node in PreOrderIter(tree)]"
   ]
  },
  {
   "cell_type": "code",
   "execution_count": 91,
   "metadata": {},
   "outputs": [
    {
     "data": {
      "text/plain": [
       "2783"
      ]
     },
     "execution_count": 91,
     "metadata": {},
     "output_type": "execute_result"
    }
   ],
   "source": [
    "len(textual_data)"
   ]
  },
  {
   "cell_type": "code",
   "execution_count": 92,
   "metadata": {},
   "outputs": [
    {
     "name": "stderr",
     "output_type": "stream",
     "text": [
      "/home/alexis/anaconda3/lib/python3.6/site-packages/h5py/__init__.py:36: FutureWarning: Conversion of the second argument of issubdtype from `float` to `np.floating` is deprecated. In future, it will be treated as `np.float64 == np.dtype(float).type`.\n",
      "  from ._conv import register_converters as _register_converters\n",
      "Using TensorFlow backend.\n"
     ]
    }
   ],
   "source": [
    "import keras\n",
    "from keras.preprocessing import sequence, text\n",
    "\n",
    "tokenizer = text.Tokenizer(\n",
    "    num_words=3e3,\n",
    "    filters=\"!\\\"#$%&()*+,-./:;<=>?@[\\\\]^_`{|}~\\t\\n'´’™©®«»\",\n",
    "    split=\" \"\n",
    ")\n",
    "\n",
    "tokenizer.fit_on_texts(textual_data)\n",
    "vocabulary = tokenizer.word_index.keys()"
   ]
  },
  {
   "cell_type": "code",
   "execution_count": 93,
   "metadata": {},
   "outputs": [
    {
     "name": "stdout",
     "output_type": "stream",
     "text": [
      "Vocabulary size: 2460\n"
     ]
    }
   ],
   "source": [
    "print('Vocabulary size: {}'.format(str(len(vocabulary))))"
   ]
  },
  {
   "cell_type": "code",
   "execution_count": 103,
   "metadata": {},
   "outputs": [
    {
     "data": {
      "text/plain": [
       "['coordination', 'de', 'l', 'action', 'diplomatique']"
      ]
     },
     "execution_count": 103,
     "metadata": {},
     "output_type": "execute_result"
    }
   ],
   "source": [
    "x = tokenizer.texts_to_sequences([\"Coordination de l'action diplomatique\"])\n",
    "x = sequence.pad_sequences(x, PADDING)\n",
    "keras.preprocessing.text.text_to_word_sequence(\n",
    "    \"Coordination de l'action diplomatique\",\n",
    "    filters=\"!\\\"#$%&()*+,-./:;<=>?@[\\\\]^_`{|}~\\t\\n'´’™©®«»\", lower=True, split=' ')"
   ]
  },
  {
   "cell_type": "code",
   "execution_count": 95,
   "metadata": {},
   "outputs": [
    {
     "data": {
      "text/plain": [
       "array([[  0,   0,   0,   0,   0,   0,   0,   0,   0,   0,   0,   0,   0,\n",
       "          0,   0,   0,   0,   0,   0,   0,   0,   0,   0,   0,   0,   0,\n",
       "          0,   0,   0,   0,   0,   0,   0,   0,   0,   0,   0,   0,   0,\n",
       "          0,   0,   0,   0,   0,   0, 236,   1,   4,  22, 313]],\n",
       "      dtype=int32)"
      ]
     },
     "execution_count": 95,
     "metadata": {},
     "output_type": "execute_result"
    }
   ],
   "source": [
    "x"
   ]
  },
  {
   "cell_type": "code",
   "execution_count": 96,
   "metadata": {},
   "outputs": [],
   "source": [
    "def create_embeddings(data):\n",
    "    for line in data:\n",
    "        line.compute_embedding(pretrained_embeddings, PADDING)"
   ]
  },
  {
   "cell_type": "code",
   "execution_count": 97,
   "metadata": {},
   "outputs": [
    {
     "data": {
      "text/plain": [
       "array([-1.6754e-01, -1.3754e-01, -3.6392e-02, -3.9287e-02,  1.7683e-01,\n",
       "       -8.8051e-02,  5.7547e-02, -1.6430e-01,  2.0407e-02,  1.3223e-01,\n",
       "       -1.0392e-01,  1.3800e-02, -5.4956e-02, -6.4772e-04, -2.1637e-01,\n",
       "       -1.2164e-01,  1.3109e-01,  5.2680e-02, -1.2348e-02, -2.1963e-01,\n",
       "        8.3641e-02, -1.1070e-01, -7.2056e-02, -1.9505e-01, -2.6239e-03,\n",
       "       -3.4084e-01,  2.5674e-01, -7.7274e-05, -5.6452e-02, -1.3222e-01,\n",
       "        1.3648e-01,  1.3705e-02, -1.9710e-01, -9.3329e-02,  9.3237e-03,\n",
       "       -1.0027e-01,  3.3993e-02, -1.0681e-01, -1.6746e-02,  2.0596e-02,\n",
       "        1.1173e-01, -1.0164e-01,  5.8992e-02, -5.3682e-02,  8.3146e-02,\n",
       "       -1.8439e-01,  2.3116e-01,  2.7589e-01,  1.9274e-01,  3.2659e-01,\n",
       "        6.3532e-02, -3.4730e-01, -1.9022e-01, -1.2918e-02, -4.2458e-03,\n",
       "       -5.2860e-02, -1.1812e-01, -7.7584e-02,  2.3975e-01, -1.2250e-01,\n",
       "       -1.3841e-01,  2.7931e-01,  1.1924e-01, -6.4862e-02, -1.1384e-02,\n",
       "        4.8492e-02,  5.8204e-02,  1.0083e-01, -9.9006e-02, -1.2690e-01,\n",
       "       -1.0045e-01,  9.7053e-02, -2.1572e-01,  1.8602e-01, -1.7234e-01,\n",
       "        9.2752e-02,  1.5389e-01,  6.7590e-02,  1.7800e-01, -6.6773e-02,\n",
       "       -1.8084e-01,  3.3614e-02, -4.5169e-02,  1.1575e-01, -2.0467e-03,\n",
       "        1.3985e-01, -1.2096e-01,  4.1037e-02, -1.9600e-01, -3.9611e-01,\n",
       "       -1.9168e-01, -7.5581e-02, -2.1399e-02,  2.1891e-01,  4.4479e-02,\n",
       "       -3.7713e-02,  7.9628e-02, -2.8639e-01,  6.8297e-02,  3.0574e-02,\n",
       "       -1.2848e-01,  2.4484e-01, -1.1264e-01, -8.0930e-02, -9.4393e-02,\n",
       "        6.1573e-02,  1.1680e-01, -3.0398e-01,  6.6523e-02,  2.2769e-01,\n",
       "        4.7908e-02, -9.8912e-02, -1.2348e-02, -6.1745e-02,  9.8493e-02,\n",
       "        8.6166e-02,  1.0790e-03,  4.8989e-02,  2.2633e-01, -2.9813e-02,\n",
       "        9.4930e-02,  1.7959e-01, -2.2648e-02, -1.7532e-02, -1.5154e-02,\n",
       "       -7.6833e-02,  3.8331e-02, -1.2306e-01, -1.4523e-01,  2.4357e-02,\n",
       "        1.3499e-02, -6.0120e-02,  3.6209e-01, -6.8435e-02,  1.2146e-01,\n",
       "        2.6351e-01,  1.7861e-01,  7.7380e-02, -6.9084e-03, -1.1629e-01,\n",
       "        2.1416e-01,  5.6641e-02, -2.8127e-03, -7.7750e-02,  2.1096e-01,\n",
       "       -3.4996e-02, -1.2688e-01,  4.3189e-02,  1.2917e-02, -1.4041e-01,\n",
       "       -3.3484e-02, -6.2577e-02, -1.5137e-01,  1.1856e-01,  1.8903e-02,\n",
       "       -9.5265e-03,  7.6706e-02,  3.4866e-01,  2.6612e-01,  3.1252e-01,\n",
       "       -7.1714e-02, -5.3233e-02,  1.9188e-01,  3.5116e-02, -1.4802e-01,\n",
       "       -4.0535e-02,  2.8765e-01,  1.8231e-02, -1.5847e-01, -1.0659e-01,\n",
       "       -1.9795e-02, -3.6747e-02,  1.8548e-01, -1.8468e-02,  1.2862e-01,\n",
       "        3.5037e-02,  5.4132e-02,  1.2533e-01, -2.8228e-02, -3.2018e-01,\n",
       "        4.6208e-02, -2.8337e-01, -2.3719e-01,  1.2769e-01,  5.2145e-02,\n",
       "        1.7084e-01,  1.3205e-02, -1.2097e-01,  4.2404e-02,  2.9050e-01,\n",
       "       -1.1712e-01, -2.6944e-02,  6.6324e-02, -5.2993e-02, -6.2990e-02,\n",
       "       -2.8253e-01,  2.3071e-01,  7.0223e-02, -2.0531e-01,  8.9122e-02,\n",
       "        8.0168e-02,  2.3363e-01, -1.3946e-01,  1.2997e-01, -2.5543e-01,\n",
       "       -1.9456e-01, -1.2648e-02,  3.1882e-01,  7.7926e-02, -4.5661e-02,\n",
       "        7.4771e-02, -1.3045e-01,  3.0276e-01,  1.9845e-01,  2.1655e-02,\n",
       "        1.9970e-01,  7.1841e-02,  1.4665e-01, -4.7255e-02, -1.5411e-01,\n",
       "       -1.2646e-01,  1.1909e-01,  1.5742e-01,  1.8321e-01,  1.1012e-01,\n",
       "       -4.4205e-02, -2.1701e-02,  2.9411e-01,  2.2992e-02, -7.5240e-02,\n",
       "       -8.3676e-02,  1.9866e-01,  5.4723e-02, -1.4339e-01,  1.1246e-01,\n",
       "       -1.5200e-01,  9.8407e-03, -2.5331e-03,  2.1996e-01,  1.1274e-01,\n",
       "       -7.8891e-02,  1.1683e-01,  1.6139e-01,  2.3750e-01,  7.0568e-02,\n",
       "       -4.2158e-02, -2.1202e-01, -1.8642e-01, -4.1433e-02,  1.4264e-01,\n",
       "       -1.2382e-01,  4.6288e-02,  1.4196e-01, -1.2584e-01, -1.4494e-02,\n",
       "       -2.0043e-01,  2.3923e-02, -2.2474e-01, -2.7588e-01, -1.7317e-01,\n",
       "        3.4958e-02, -2.0902e-01,  2.3288e-01,  1.2708e-01, -9.1115e-02,\n",
       "       -5.6470e-02, -9.8590e-02, -8.1233e-02,  8.6480e-02, -2.8169e-01,\n",
       "        1.0925e-01,  7.4107e-02,  1.0495e-01,  3.0855e-01,  4.2338e-02,\n",
       "        5.3715e-02,  8.3896e-02,  1.1034e-01, -8.7818e-02,  6.5983e-02,\n",
       "       -2.8118e-01,  2.5721e-02,  4.3656e-02,  9.8259e-02, -1.2847e-01,\n",
       "        2.2039e-01,  4.2150e-02, -1.4861e-03,  1.6075e-01, -9.6988e-02,\n",
       "       -1.2864e-01,  2.2002e-01,  2.2238e-01,  3.1031e-02, -9.8271e-02,\n",
       "        2.6572e-02, -2.6740e-01,  3.0641e-01,  9.4399e-05, -8.1333e-02],\n",
       "      dtype=float32)"
      ]
     },
     "execution_count": 97,
     "metadata": {},
     "output_type": "execute_result"
    }
   ],
   "source": [
    "pretrained_embeddings['l']"
   ]
  },
  {
   "cell_type": "code",
   "execution_count": null,
   "metadata": {},
   "outputs": [],
   "source": []
  }
 ],
 "metadata": {
  "kernelspec": {
   "display_name": "Python 3",
   "language": "python",
   "name": "python3"
  },
  "language_info": {
   "codemirror_mode": {
    "name": "ipython",
    "version": 3
   },
   "file_extension": ".py",
   "mimetype": "text/x-python",
   "name": "python",
   "nbconvert_exporter": "python",
   "pygments_lexer": "ipython3",
   "version": "3.6.4"
  }
 },
 "nbformat": 4,
 "nbformat_minor": 2
}
