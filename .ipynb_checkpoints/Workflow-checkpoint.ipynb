{
 "cells": [
  {
   "cell_type": "code",
   "execution_count": 151,
   "metadata": {},
   "outputs": [],
   "source": [
    "import csv\n",
    "import keras\n",
    "import matplotlib.pyplot as plt\n",
    "import numpy as np\n",
    "\n",
    "from anytree import Node, RenderTree, Resolver, AnyNode, LevelOrderIter\n",
    "from tqdm import tqdm_notebook, tqdm"
   ]
  },
  {
   "cell_type": "markdown",
   "metadata": {},
   "source": [
    "Commandes pour générer les fichiers `.csv` depuis le dump envoyé par la DB :\n",
    "```\n",
    "ls | xargs -i basename {} .xlsx | xargs -i ssconvert {}.xlsx {}.csv\n",
    "find -name '*.csv' | xargs -i wc -l {}\n",
    "```"
   ]
  },
  {
   "cell_type": "code",
   "execution_count": 24,
   "metadata": {},
   "outputs": [],
   "source": [
    "FILE_1 = './raw_data/h20162.csv'\n",
    "FILE_2 = './raw_data/h20172.csv'\n",
    "EMBEDDING_FILE_PATH = '/home/alexis/mva/word_embeddings/wiki.fr.vec'\n",
    "ATTRIBUTES = ['tm', 'ms', 'pg', 'a', 'sa']\n",
    "ATTRIBUTE_ID = ['id_tms', 'id_ms', 'id_pg', 'id_a', 'id_sa']\n",
    "PADDING = 50"
   ]
  },
  {
   "cell_type": "markdown",
   "metadata": {},
   "source": [
    "# Load word embeddings"
   ]
  },
  {
   "cell_type": "markdown",
   "metadata": {},
   "source": [
    "Load FastText pretrained embeddings."
   ]
  },
  {
   "cell_type": "code",
   "execution_count": 3,
   "metadata": {},
   "outputs": [],
   "source": [
    "import gensim\n",
    "from gensim.models import Word2Vec\n",
    "pretrained_embeddings = gensim.models.KeyedVectors.load_word2vec_format(EMBEDDING_FILE_PATH, binary=False)"
   ]
  },
  {
   "cell_type": "markdown",
   "metadata": {},
   "source": [
    "# Load Data"
   ]
  },
  {
   "cell_type": "code",
   "execution_count": 152,
   "metadata": {},
   "outputs": [],
   "source": [
    "class Line:\n",
    "    \"\"\"Parser for rows of input CSV files\"\"\"\n",
    "\n",
    "    def __init__(self, row):\n",
    "        self.id_tms = row[1]\n",
    "        self.tm = row[2]\n",
    "        self.id_ms = row[3]\n",
    "        self.ms = row[4]\n",
    "        self.id_pg = row[5]\n",
    "        self.pg = row[6]\n",
    "        self.id_a = row[7]\n",
    "        self.a = row[8]\n",
    "        # Parse sous-action if exists\n",
    "        self.id_sa = row[9] if len(row[9]) > 0 else ''\n",
    "        self.sa = row[10] if len(row[10]) > 0 else ''"
   ]
  },
  {
   "cell_type": "code",
   "execution_count": 174,
   "metadata": {},
   "outputs": [],
   "source": [
    "def parse_csv(file_path, tree, resolver):\n",
    "    \"\"\"Iterates over input CSV file's lines\n",
    "    to build tree representing data.\n",
    "\n",
    "    Inputs:\n",
    "        - path to csv file under study\n",
    "        - anytree which will be updated\n",
    "        - anytree resolver for searching in given tree\n",
    "    \"\"\"\n",
    "\n",
    "    with open(file_path, 'r') as input_file:\n",
    "        reader = csv.reader(input_file, delimiter=',', quotechar='\"')\n",
    "\n",
    "        # Skip header\n",
    "        next(reader, None)\n",
    "\n",
    "        # Iterate through rows\n",
    "        for row in reader:\n",
    "            # Parse current row\n",
    "            line = Line(row)\n",
    "\n",
    "            # Walk in the current tree and potentially\n",
    "            # build path of the leaf under study.\n",
    "            current_tree = tree\n",
    "            current_path = []\n",
    "            current_id = []\n",
    "\n",
    "            # Iterate through line attributes, which represent\n",
    "            # recursive nodes of the leaf under study.\n",
    "            for attribute, attribute_id in zip(ATTRIBUTES, ATTRIBUTE_ID):\n",
    "                # Get current node name\n",
    "                name = getattr(line, attribute)\n",
    "                if name == '':\n",
    "                    continue\n",
    "\n",
    "                # Update id array\n",
    "                if getattr(line, attribute_id):\n",
    "                    current_id.append(getattr(line, attribute_id))\n",
    "                \n",
    "                # Compute embedding for current node\n",
    "                \n",
    "                ## Split current node's name\n",
    "                words = keras.preprocessing.text.text_to_word_sequence(\n",
    "                    name,\n",
    "                    filters=\"!\\\"#$%&()*+,-./:;<=>?@[\\\\]^_`{|}~\\t\\n'´’™©®«»\",\n",
    "                    lower=True,\n",
    "                    split=' '\n",
    "                )\n",
    "                \n",
    "                ## Initiate embedding\n",
    "                embedding = np.zeros((0, 300))\n",
    "                \n",
    "                ## Create embedding for each word\n",
    "                for word in words:\n",
    "                    try:\n",
    "                        embedding = np.concatenate((\n",
    "                            embedding,\n",
    "                            np.array([pretrained_embeddings[word.lower()]])\n",
    "                        ))\n",
    "                    except:\n",
    "                        # If word does not exist in pretrained embedding,\n",
    "                        # give it null embedding\n",
    "                        embedding = np.concatenate((\n",
    "                            embedding,\n",
    "                            np.array([np.zeros((300,))])\n",
    "                        ))\n",
    "\n",
    "                ## Pad current embedding\n",
    "                padded_embedding = np.zeros((PADDING, embedding.shape[1]))\n",
    "                padded_embedding[:embedding.shape[0],:embedding.shape[1]] = embedding\n",
    "\n",
    "                # Update location in tree\n",
    "                current_path.append(name)\n",
    "                try:\n",
    "                    # If current node already exists,\n",
    "                    # simply update current_node with it\n",
    "                    current_tree = resolver.get(current_tree, current_path[-1])\n",
    "                except:\n",
    "                    # If not, create new node\n",
    "                    current_tree = AnyNode(\n",
    "                        parent=current_tree,\n",
    "                        name=current_path[-1],\n",
    "                        embedding=padded_embedding,\n",
    "                        id=current_id.copy()\n",
    "                    )"
   ]
  },
  {
   "cell_type": "code",
   "execution_count": 175,
   "metadata": {},
   "outputs": [
    {
     "data": {
      "text/plain": [
       "[1, 23]"
      ]
     },
     "execution_count": 175,
     "metadata": {},
     "output_type": "execute_result"
    }
   ],
   "source": [
    "a = [1,23]\n",
    "b = a.copy()\n",
    "b"
   ]
  },
  {
   "cell_type": "code",
   "execution_count": 176,
   "metadata": {},
   "outputs": [],
   "source": [
    "resolver = Resolver('name')"
   ]
  },
  {
   "cell_type": "code",
   "execution_count": 177,
   "metadata": {},
   "outputs": [],
   "source": [
    "tree1 = AnyNode(name='top', parent=None, embedding=np.zeros((50, 300)), id=[])\n",
    "parse_csv(FILE_1, tree1, resolver)"
   ]
  },
  {
   "cell_type": "code",
   "execution_count": 178,
   "metadata": {},
   "outputs": [],
   "source": [
    "tree2 = AnyNode(name='top', parent=None, embedding=np.zeros((50, 300)), id=[])\n",
    "parse_csv(FILE_2, tree2, resolver)"
   ]
  },
  {
   "cell_type": "markdown",
   "metadata": {},
   "source": [
    "## Verify assumptions"
   ]
  },
  {
   "cell_type": "markdown",
   "metadata": {},
   "source": [
    "### Check embedding shape"
   ]
  },
  {
   "cell_type": "markdown",
   "metadata": {},
   "source": [
    "Test that all created embeddings have the same shape."
   ]
  },
  {
   "cell_type": "code",
   "execution_count": 179,
   "metadata": {},
   "outputs": [],
   "source": [
    "for node in LevelOrderIter(tree1):\n",
    "    assert(node.embedding.shape == (50, 300))"
   ]
  },
  {
   "cell_type": "markdown",
   "metadata": {},
   "source": [
    "### Count maximal number of words"
   ]
  },
  {
   "cell_type": "code",
   "execution_count": 180,
   "metadata": {},
   "outputs": [],
   "source": [
    "def word_count_per_attribute(tree):\n",
    "    l = []\n",
    "    for node in LevelOrderIter(tree):\n",
    "        l.append(len(node.name.split(' ')))\n",
    "    return l"
   ]
  },
  {
   "cell_type": "code",
   "execution_count": 181,
   "metadata": {},
   "outputs": [],
   "source": [
    "l = word_count_per_attribute(tree1) + word_count_per_attribute(tree2)"
   ]
  },
  {
   "cell_type": "code",
   "execution_count": 182,
   "metadata": {},
   "outputs": [
    {
     "data": {
      "image/png": "[encoded data removed]",
      "text/plain": [
       "<matplotlib.figure.Figure at 0x7f9328d0b4a8>"
      ]
     },
     "metadata": {},
     "output_type": "display_data"
    }
   ],
   "source": [
    "f = plt.figure(figsize=(15, 4))\n",
    "\n",
    "ax = plt.subplot(1, 2, 1)\n",
    "ax.set_title('Log distribution of number of words')\n",
    "n, bins, patches = ax.hist(l, 50, log=True)\n",
    "\n",
    "ax = plt.subplot(1, 2, 2)\n",
    "ax.set_title('Distribution of number of words')\n",
    "n, bins, patches = ax.hist(l, 50)"
   ]
  },
  {
   "cell_type": "markdown",
   "metadata": {},
   "source": [
    "It seems from thoses distributions that `50` is enough."
   ]
  },
  {
   "cell_type": "markdown",
   "metadata": {},
   "source": [
    "# Find nearest neighbours"
   ]
  },
  {
   "cell_type": "code",
   "execution_count": 183,
   "metadata": {},
   "outputs": [],
   "source": [
    "from sklearn.neighbors import NearestNeighbors"
   ]
  },
  {
   "cell_type": "code",
   "execution_count": 184,
   "metadata": {},
   "outputs": [],
   "source": [
    "def build_nearest_neighbours(tree, k=2):\n",
    "    \"\"\"Build and return scikit NearestNeighbors\n",
    "    along with neighbours_node_list which will\n",
    "    later be usefull for checking what node\n",
    "    was mapped to what.\n",
    "    \n",
    "    Inputs:\n",
    "        - anytree\n",
    "        - number of nearest neighbours\n",
    "    \"\"\"\n",
    "\n",
    "    # Stack and flatten all embeddings\n",
    "    # from a given tree\n",
    "    neighbours_node_list = [node for node in LevelOrderIter(tree) if node.name != 'top']\n",
    "    embeddings = np.array([node.embedding.flatten() for node in LevelOrderIter(tree) if node.name != 'top'])\n",
    "\n",
    "    # Initiate scikit learn NearestNeighbors\n",
    "    neighbours = NearestNeighbors(\n",
    "        n_neighbors=k,\n",
    "        algorithm='ball_tree'\n",
    "    ).fit(embeddings)\n",
    "\n",
    "    return neighbours, neighbours_node_list"
   ]
  },
  {
   "cell_type": "code",
   "execution_count": 202,
   "metadata": {},
   "outputs": [],
   "source": [
    "neighbours, neighbours_node_list = build_nearest_neighbours(tree2, k=2)"
   ]
  },
  {
   "cell_type": "code",
   "execution_count": 203,
   "metadata": {},
   "outputs": [],
   "source": [
    "def map_entire_tree(tree, neighbours):\n",
    "    embeddings = np.array([node.embedding.flatten() for node in LevelOrderIter(tree) if node.name != 'top'])\n",
    "\n",
    "    print('Computing KNN...')\n",
    "    distances, indices = neighbours.kneighbors(embeddings)\n",
    "\n",
    "    return distances, indices, embeddings"
   ]
  },
  {
   "cell_type": "code",
   "execution_count": 204,
   "metadata": {},
   "outputs": [
    {
     "name": "stdout",
     "output_type": "stream",
     "text": [
      "Computing KNN...\n",
      "CPU times: user 2min 54s, sys: 215 ms, total: 2min 55s\n",
      "Wall time: 2min 55s\n"
     ]
    }
   ],
   "source": [
    "%%time\n",
    "distances, indices, embeddings = map_entire_tree(tree1, neighbours)"
   ]
  },
  {
   "cell_type": "code",
   "execution_count": 217,
   "metadata": {},
   "outputs": [
    {
     "name": "stdout",
     "output_type": "stream",
     "text": [
      "Percentage of not directly matched: 6.07 % (151 / 2489)\n"
     ]
    }
   ],
   "source": [
    "print('Percentage of not directly matched: {:.2f} % ({} / {})'.format(\n",
    "        distances[distances[:,0] != 0].shape[0] / distances.shape[0] * 100,\n",
    "        distances[distances[:,0] != 0].shape[0],\n",
    "        distances.shape[0]\n",
    "    )\n",
    ")"
   ]
  },
  {
   "cell_type": "code",
   "execution_count": 216,
   "metadata": {},
   "outputs": [
    {
     "name": "stdout",
     "output_type": "stream",
     "text": [
      "Percentage of not uniquely matched: 13.10 % (326 / 2489)\n"
     ]
    }
   ],
   "source": [
    "print('Percentage of not uniquely matched: {:.2f} % ({} / {})'.format(\n",
    "        len([1 for d in distances if d[0] == 0 and d[1] == 0]) / distances.shape[0] * 100,\n",
    "        len([1 for d in distances if d[0] == 0 and d[1] == 0]),\n",
    "        distances.shape[0]\n",
    "    )\n",
    ")"
   ]
  },
  {
   "cell_type": "code",
   "execution_count": 206,
   "metadata": {},
   "outputs": [
    {
     "data": {
      "image/png": "[encoded data removed]",
      "text/plain": [
       "<matplotlib.figure.Figure at 0x7f933b414da0>"
      ]
     },
     "metadata": {},
     "output_type": "display_data"
    }
   ],
   "source": [
    "f = plt.figure(figsize=(10, 4))\n",
    "\n",
    "ax = plt.subplot(1, 1, 1)\n",
    "ax.set_title('Distribution of distances of imperfectly matched nodes')\n",
    "n, bins, patches = ax.hist(distances[distances[:,0] != 0][:,0], 50)\n",
    "# n, bins, patches = ax.hist(distances[:,1], 50, alpha=0.5)"
   ]
  },
  {
   "cell_type": "markdown",
   "metadata": {},
   "source": [
    "## Printing imperfect matches"
   ]
  },
  {
   "cell_type": "code",
   "execution_count": 207,
   "metadata": {},
   "outputs": [],
   "source": [
    "def my_pad(a, l):\n",
    "    \"\"\"Util function for padding Python arrays.\"\"\"\n",
    "\n",
    "    for _ in range(l - len(a)):\n",
    "        a.append(\"\")\n",
    "    return a"
   ]
  },
  {
   "cell_type": "code",
   "execution_count": 208,
   "metadata": {},
   "outputs": [],
   "source": [
    "nodes = np.array([node for node in LevelOrderIter(tree1) if node.name != 'top'])\n",
    "\n",
    "with open('./imperfect_pairs.csv', 'w') as f:\n",
    "    for i in range(indices.shape[0]):\n",
    "        if distances[i,0] != 0:\n",
    "            f.write('{};{};{};{};{}\\n'.format(\n",
    "                ';'.join(my_pad(nodes[i].id, 5)),\n",
    "                nodes[i].name,\n",
    "                ';'.join(my_pad(neighbours_node_list[indices[i, 0]].id, 5)),\n",
    "                neighbours_node_list[indices[i, 0]].name,\n",
    "                distances[i, 0]\n",
    "            ))"
   ]
  },
  {
   "cell_type": "code",
   "execution_count": 228,
   "metadata": {},
   "outputs": [],
   "source": [
    "def find_by_id(node_list, id_list):\n",
    "    for i, node in enumerate(node_list):\n",
    "        if id_list == node.id:\n",
    "            return i"
   ]
  },
  {
   "cell_type": "code",
   "execution_count": 229,
   "metadata": {},
   "outputs": [],
   "source": [
    "def find_with_id(node_list, id):\n",
    "    for node in node_list:\n",
    "        if id in node.id:\n",
    "            print(node.id)\n",
    "            print(node.name)"
   ]
  },
  {
   "cell_type": "code",
   "execution_count": 230,
   "metadata": {},
   "outputs": [
    {
     "name": "stdout",
     "output_type": "stream",
     "text": [
      "['1', 'TA', '170']\n",
      "Météorologie\n",
      "['1', 'TA', '170', '01', '']\n",
      "Observation et prévision météorologiques\n",
      "['1', 'TA', '170', '02']\n",
      "Recherche dans le domaine météorologique\n"
     ]
    }
   ],
   "source": [
    "find_with_id(nodes, '170')"
   ]
  },
  {
   "cell_type": "code",
   "execution_count": 231,
   "metadata": {},
   "outputs": [
    {
     "data": {
      "text/plain": [
       "163"
      ]
     },
     "execution_count": 231,
     "metadata": {},
     "output_type": "execute_result"
    }
   ],
   "source": [
    "find_by_id(nodes, ['1', 'TA', '170'])"
   ]
  },
  {
   "cell_type": "code",
   "execution_count": 232,
   "metadata": {},
   "outputs": [
    {
     "data": {
      "text/plain": [
       "array([ 778, 2233])"
      ]
     },
     "execution_count": 232,
     "metadata": {},
     "output_type": "execute_result"
    }
   ],
   "source": [
    "indices[163]"
   ]
  },
  {
   "cell_type": "code",
   "execution_count": 234,
   "metadata": {},
   "outputs": [
    {
     "data": {
      "text/plain": [
       "AnyNode(embedding=array([[-0.010194  , -0.20223001, -0.42866001, ...,  0.11254   ,\n",
       "         0.50453001,  0.017988  ],\n",
       "       [ 0.        ,  0.        ,  0.        , ...,  0.        ,\n",
       "         0.        ,  0.        ],\n",
       "       [ 0.        ,  0.        ,  0.        , ...,  0.        ,\n",
       "         0.        ,  0.        ],\n",
       "       ...,\n",
       "       [ 0.        ,  0.        ,  0.        , ...,  0.        ,\n",
       "         0.        ,  0.        ],\n",
       "       [ 0.        ,  0.        ,  0.        , ...,  0.        ,\n",
       "         0.        ,  0.        ],\n",
       "       [ 0.        ,  0.        ,  0.        , ...,  0.        ,\n",
       "         0.        ,  0.        ]]), id=['1', 'TA', '159', '13'], name='Météorologie')"
      ]
     },
     "execution_count": 234,
     "metadata": {},
     "output_type": "execute_result"
    }
   ],
   "source": [
    "neighbours_node_list[indices[163][0]]"
   ]
  },
  {
   "cell_type": "code",
   "execution_count": null,
   "metadata": {},
   "outputs": [],
   "source": []
  }
 ],
 "metadata": {
  "kernelspec": {
   "display_name": "Python 3",
   "language": "python",
   "name": "python3"
  },
  "language_info": {
   "codemirror_mode": {
    "name": "ipython",
    "version": 3
   },
   "file_extension": ".py",
   "mimetype": "text/x-python",
   "name": "python",
   "nbconvert_exporter": "python",
   "pygments_lexer": "ipython3",
   "version": "3.6.4"
  }
 },
 "nbformat": 4,
 "nbformat_minor": 2
}
